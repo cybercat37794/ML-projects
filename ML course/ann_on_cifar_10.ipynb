{
  "cells": [
    {
      "cell_type": "code",
      "source": [
        "import numpy as np\n",
        "from keras.datasets import cifar10\n",
        "from keras.models import Sequential\n",
        "from keras.layers import Dense\n",
        "from tensorflow.keras.utils import to_categorical\n",
        "import matplotlib.pyplot as plt\n",
        "import tensorflow as tf"
      ],
      "metadata": {
        "id": "gWCZ1BV8Z_SM"
      },
      "id": "gWCZ1BV8Z_SM",
      "execution_count": 1,
      "outputs": []
    },
    {
      "cell_type": "code",
      "source": [
        "(train_images, train_labels), (test_images, test_labels) = tf.keras.datasets.cifar10.load_data()"
      ],
      "metadata": {
        "id": "ncnfjxHpaFs6"
      },
      "id": "ncnfjxHpaFs6",
      "execution_count": 2,
      "outputs": []
    },
    {
      "cell_type": "code",
      "source": [
        "print(train_images.shape)\n",
        "print(train_labels.shape)\n",
        "print(test_images.shape)\n",
        "print(test_labels.shape)"
      ],
      "metadata": {
        "colab": {
          "base_uri": "https://localhost:8080/"
        },
        "id": "Bb2MagP4lrt-",
        "outputId": "333cd2a4-e7fd-40ae-d0a2-f2f9f5e5e0a3"
      },
      "id": "Bb2MagP4lrt-",
      "execution_count": 3,
      "outputs": [
        {
          "output_type": "stream",
          "name": "stdout",
          "text": [
            "(50000, 32, 32, 3)\n",
            "(50000, 1)\n",
            "(10000, 32, 32, 3)\n",
            "(10000, 1)\n"
          ]
        }
      ]
    },
    {
      "cell_type": "code",
      "source": [
        "\n",
        "# Normalize the images.\n",
        "train_images = (train_images / 255)\n",
        "test_images = (test_images / 255)\n",
        "\n",
        "print(train_images.shape)\n",
        "print(test_images.shape)"
      ],
      "metadata": {
        "id": "28qXTboLaKEL",
        "colab": {
          "base_uri": "https://localhost:8080/"
        },
        "outputId": "4ca912c8-b667-4a72-9a2b-142a160839cb"
      },
      "id": "28qXTboLaKEL",
      "execution_count": 4,
      "outputs": [
        {
          "output_type": "stream",
          "name": "stdout",
          "text": [
            "(50000, 32, 32, 3)\n",
            "(10000, 32, 32, 3)\n"
          ]
        }
      ]
    },
    {
      "cell_type": "code",
      "source": [
        "# Flatten the images.\n",
        "train_images = train_images.reshape((-1, 3072))\n",
        "test_images = test_images.reshape((-1, 3072))\n",
        "\n",
        "print(train_images.shape)\n",
        "print(test_images.shape)"
      ],
      "metadata": {
        "id": "3S-VzbjqaNv6",
        "colab": {
          "base_uri": "https://localhost:8080/"
        },
        "outputId": "c3fc51cd-a7b1-4f8e-c175-8521bbfe2314"
      },
      "id": "3S-VzbjqaNv6",
      "execution_count": 5,
      "outputs": [
        {
          "output_type": "stream",
          "name": "stdout",
          "text": [
            "(50000, 3072)\n",
            "(10000, 3072)\n"
          ]
        }
      ]
    },
    {
      "cell_type": "code",
      "source": [
        "cifar10 = tf.keras.datasets.cifar10\n",
        "\n",
        "(x_train, y_train), (x_test, y_test) = cifar10.load_data()\n"
      ],
      "metadata": {
        "id": "5NMDVKfUaNgu"
      },
      "id": "5NMDVKfUaNgu",
      "execution_count": 6,
      "outputs": []
    },
    {
      "cell_type": "code",
      "source": [
        "print(x_train.shape)\n",
        "print(y_train.shape)\n",
        "print(x_test.shape)\n",
        "print(y_test.shape)"
      ],
      "metadata": {
        "colab": {
          "base_uri": "https://localhost:8080/"
        },
        "id": "brhv3-Hcmmwg",
        "outputId": "4a286eb0-c3ca-4dd9-cc60-386bf2762f1b"
      },
      "id": "brhv3-Hcmmwg",
      "execution_count": 7,
      "outputs": [
        {
          "output_type": "stream",
          "name": "stdout",
          "text": [
            "(50000, 32, 32, 3)\n",
            "(50000, 1)\n",
            "(10000, 32, 32, 3)\n",
            "(10000, 1)\n"
          ]
        }
      ]
    },
    {
      "cell_type": "code",
      "source": [
        "for i in range(10):\n",
        "    plt.figure(figsize = (15,2))\n",
        "    plt.xlabel(i)\n",
        "    plt.imshow(x_train[i])\n",
        "    "
      ],
      "metadata": {
        "colab": {
          "base_uri": "https://localhost:8080/",
          "height": 1000
        },
        "id": "eKgA74peaNYb",
        "outputId": "39553c49-68b2-4db3-9e9c-91103033bf91"
      },
      "id": "eKgA74peaNYb",
      "execution_count": 8,
      "outputs": [
        {
          "output_type": "display_data",
          "data": {
            "text/plain": [
              "<Figure size 1080x144 with 1 Axes>"
            ],
            "image/png": "[encoded data removed]"
          },
          "metadata": {
            "needs_background": "light"
          }
        },
        {
          "output_type": "display_data",
          "data": {
            "text/plain": [
              "<Figure size 1080x144 with 1 Axes>"
            ],
            "image/png": "[encoded data removed]"
          },
          "metadata": {
            "needs_background": "light"
          }
        },
        {
          "output_type": "display_data",
          "data": {
            "text/plain": [
              "<Figure size 1080x144 with 1 Axes>"
            ],
            "image/png": "[encoded data removed]"
          },
          "metadata": {
            "needs_background": "light"
          }
        },
        {
          "output_type": "display_data",
          "data": {
            "text/plain": [
              "<Figure size 1080x144 with 1 Axes>"
            ],
            "image/png": "[encoded data removed]"
          },
          "metadata": {
            "needs_background": "light"
          }
        },
        {
          "output_type": "display_data",
          "data": {
            "text/plain": [
              "<Figure size 1080x144 with 1 Axes>"
            ],
            "image/png": "[encoded data removed]"
          },
          "metadata": {
            "needs_background": "light"
          }
        },
        {
          "output_type": "display_data",
          "data": {
            "text/plain": [
              "<Figure size 1080x144 with 1 Axes>"
            ],
            "image/png": "[encoded data removed]"
          },
          "metadata": {
            "needs_background": "light"
          }
        },
        {
          "output_type": "display_data",
          "data": {
            "text/plain": [
              "<Figure size 1080x144 with 1 Axes>"
            ],
            "image/png": "[encoded data removed]"
          },
          "metadata": {
            "needs_background": "light"
          }
        },
        {
          "output_type": "display_data",
          "data": {
            "text/plain": [
              "<Figure size 1080x144 with 1 Axes>"
            ],
            "image/png": "[encoded data removed]"
          },
          "metadata": {
            "needs_background": "light"
          }
        },
        {
          "output_type": "display_data",
          "data": {
            "text/plain": [
              "<Figure size 1080x144 with 1 Axes>"
            ],
            "image/png": "[encoded data removed]"
          },
          "metadata": {
            "needs_background": "light"
          }
        },
        {
          "output_type": "display_data",
          "data": {
            "text/plain": [
              "<Figure size 1080x144 with 1 Axes>"
            ],
            "image/png": "[encoded data removed]"
          },
          "metadata": {
            "needs_background": "light"
          }
        }
      ]
    },
    {
      "cell_type": "code",
      "source": [
        "# Build the model.\n",
        "model = Sequential([\n",
        "  Dense(3072, activation='relu', input_shape=(3072,)),\n",
        "  Dense(1536, activation='relu'),\n",
        "  Dense(768, activation='relu'),\n",
        "  Dense(384, activation='relu'),\n",
        "  Dense(192, activation='relu'),\n",
        "  Dense(10, activation='softmax'),\n",
        "])"
      ],
      "metadata": {
        "id": "Rg7YvyEZaNQS"
      },
      "id": "Rg7YvyEZaNQS",
      "execution_count": 9,
      "outputs": []
    },
    {
      "cell_type": "code",
      "source": [
        "# Compile the model.\n",
        "model.compile(\n",
        "  optimizer='adam',\n",
        "  loss='categorical_crossentropy',\n",
        "  metrics=['accuracy'],\n",
        ")\n",
        "model.summary()"
      ],
      "metadata": {
        "id": "BtckH5UYaNIS",
        "colab": {
          "base_uri": "https://localhost:8080/"
        },
        "outputId": "6888f82d-8845-4da9-d6fe-b8b35f252b64"
      },
      "id": "BtckH5UYaNIS",
      "execution_count": 10,
      "outputs": [
        {
          "output_type": "stream",
          "name": "stdout",
          "text": [
            "Model: \"sequential\"\n",
            "_________________________________________________________________\n",
            " Layer (type)                Output Shape              Param #   \n",
            "=================================================================\n",
            " dense (Dense)               (None, 3072)              9440256   \n",
            "                                                                 \n",
            " dense_1 (Dense)             (None, 1536)              4720128   \n",
            "                                                                 \n",
            " dense_2 (Dense)             (None, 768)               1180416   \n",
            "                                                                 \n",
            " dense_3 (Dense)             (None, 384)               295296    \n",
            "                                                                 \n",
            " dense_4 (Dense)             (None, 192)               73920     \n",
            "                                                                 \n",
            " dense_5 (Dense)             (None, 10)                1930      \n",
            "                                                                 \n",
            "=================================================================\n",
            "Total params: 15,711,946\n",
            "Trainable params: 15,711,946\n",
            "Non-trainable params: 0\n",
            "_________________________________________________________________\n"
          ]
        }
      ]
    },
    {
      "cell_type": "code",
      "source": [
        "# Train the model.\n",
        "model.fit(\n",
        "  train_images,\n",
        "  to_categorical(train_labels),\n",
        "  epochs=120,\n",
        "  batch_size=1000,\n",
        ")"
      ],
      "metadata": {
        "colab": {
          "base_uri": "https://localhost:8080/"
        },
        "id": "0sunkqdyaM5z",
        "outputId": "5b67747c-25cf-4220-de54-164e01ff060b"
      },
      "id": "0sunkqdyaM5z",
      "execution_count": 11,
      "outputs": [
        {
          "output_type": "stream",
          "name": "stdout",
          "text": [
            "Epoch 1/120\n",
            "50/50 [==============================] - 5s 56ms/step - loss: 2.3848 - accuracy: 0.1554\n",
            "Epoch 2/120\n",
            "50/50 [==============================] - 3s 51ms/step - loss: 1.9594 - accuracy: 0.2726\n",
            "Epoch 3/120\n",
            "50/50 [==============================] - 2s 46ms/step - loss: 1.7992 - accuracy: 0.3495\n",
            "Epoch 4/120\n",
            "50/50 [==============================] - 2s 46ms/step - loss: 1.7225 - accuracy: 0.3773\n",
            "Epoch 5/120\n",
            "50/50 [==============================] - 2s 47ms/step - loss: 1.6708 - accuracy: 0.4002\n",
            "Epoch 6/120\n",
            "50/50 [==============================] - 2s 47ms/step - loss: 1.6149 - accuracy: 0.4222\n",
            "Epoch 7/120\n",
            "50/50 [==============================] - 2s 46ms/step - loss: 1.5662 - accuracy: 0.4409\n",
            "Epoch 8/120\n",
            "50/50 [==============================] - 2s 46ms/step - loss: 1.5145 - accuracy: 0.4599\n",
            "Epoch 9/120\n",
            "50/50 [==============================] - 2s 47ms/step - loss: 1.4892 - accuracy: 0.4685\n",
            "Epoch 10/120\n",
            "50/50 [==============================] - 2s 47ms/step - loss: 1.4533 - accuracy: 0.4817\n",
            "Epoch 11/120\n",
            "50/50 [==============================] - 2s 46ms/step - loss: 1.4197 - accuracy: 0.4923\n",
            "Epoch 12/120\n",
            "50/50 [==============================] - 2s 46ms/step - loss: 1.3948 - accuracy: 0.5030\n",
            "Epoch 13/120\n",
            "50/50 [==============================] - 2s 46ms/step - loss: 1.3453 - accuracy: 0.5214\n",
            "Epoch 14/120\n",
            "50/50 [==============================] - 2s 47ms/step - loss: 1.3343 - accuracy: 0.5237\n",
            "Epoch 15/120\n",
            "50/50 [==============================] - 2s 47ms/step - loss: 1.3046 - accuracy: 0.5337\n",
            "Epoch 16/120\n",
            "50/50 [==============================] - 2s 46ms/step - loss: 1.2876 - accuracy: 0.5389\n",
            "Epoch 17/120\n",
            "50/50 [==============================] - 2s 47ms/step - loss: 1.2575 - accuracy: 0.5513\n",
            "Epoch 18/120\n",
            "50/50 [==============================] - 2s 47ms/step - loss: 1.2320 - accuracy: 0.5605\n",
            "Epoch 19/120\n",
            "50/50 [==============================] - 2s 47ms/step - loss: 1.2043 - accuracy: 0.5706\n",
            "Epoch 20/120\n",
            "50/50 [==============================] - 2s 46ms/step - loss: 1.1828 - accuracy: 0.5786\n",
            "Epoch 21/120\n",
            "50/50 [==============================] - 2s 47ms/step - loss: 1.1538 - accuracy: 0.5881\n",
            "Epoch 22/120\n",
            "50/50 [==============================] - 2s 47ms/step - loss: 1.1338 - accuracy: 0.5924\n",
            "Epoch 23/120\n",
            "50/50 [==============================] - 2s 47ms/step - loss: 1.0923 - accuracy: 0.6108\n",
            "Epoch 24/120\n",
            "50/50 [==============================] - 2s 46ms/step - loss: 1.0902 - accuracy: 0.6095\n",
            "Epoch 25/120\n",
            "50/50 [==============================] - 2s 46ms/step - loss: 1.0507 - accuracy: 0.6242\n",
            "Epoch 26/120\n",
            "50/50 [==============================] - 2s 47ms/step - loss: 1.0359 - accuracy: 0.6287\n",
            "Epoch 27/120\n",
            "50/50 [==============================] - 2s 46ms/step - loss: 1.0148 - accuracy: 0.6368\n",
            "Epoch 28/120\n",
            "50/50 [==============================] - 2s 47ms/step - loss: 0.9916 - accuracy: 0.6435\n",
            "Epoch 29/120\n",
            "50/50 [==============================] - 2s 47ms/step - loss: 0.9517 - accuracy: 0.6599\n",
            "Epoch 30/120\n",
            "50/50 [==============================] - 2s 46ms/step - loss: 0.9098 - accuracy: 0.6759\n",
            "Epoch 31/120\n",
            "50/50 [==============================] - 2s 46ms/step - loss: 0.8948 - accuracy: 0.6810\n",
            "Epoch 32/120\n",
            "50/50 [==============================] - 2s 47ms/step - loss: 0.8481 - accuracy: 0.6969\n",
            "Epoch 33/120\n",
            "50/50 [==============================] - 2s 46ms/step - loss: 0.8315 - accuracy: 0.7026\n",
            "Epoch 34/120\n",
            "50/50 [==============================] - 2s 46ms/step - loss: 0.7854 - accuracy: 0.7201\n",
            "Epoch 35/120\n",
            "50/50 [==============================] - 2s 46ms/step - loss: 0.7466 - accuracy: 0.7327\n",
            "Epoch 36/120\n",
            "50/50 [==============================] - 2s 47ms/step - loss: 0.7285 - accuracy: 0.7398\n",
            "Epoch 37/120\n",
            "50/50 [==============================] - 3s 51ms/step - loss: 0.6887 - accuracy: 0.7559\n",
            "Epoch 38/120\n",
            "50/50 [==============================] - 2s 48ms/step - loss: 0.6495 - accuracy: 0.7704\n",
            "Epoch 39/120\n",
            "50/50 [==============================] - 2s 46ms/step - loss: 0.6204 - accuracy: 0.7809\n",
            "Epoch 40/120\n",
            "50/50 [==============================] - 2s 46ms/step - loss: 0.5960 - accuracy: 0.7870\n",
            "Epoch 41/120\n",
            "50/50 [==============================] - 2s 46ms/step - loss: 0.5456 - accuracy: 0.8080\n",
            "Epoch 42/120\n",
            "50/50 [==============================] - 2s 46ms/step - loss: 0.5292 - accuracy: 0.8121\n",
            "Epoch 43/120\n",
            "50/50 [==============================] - 2s 47ms/step - loss: 0.4921 - accuracy: 0.8257\n",
            "Epoch 44/120\n",
            "50/50 [==============================] - 2s 46ms/step - loss: 0.4552 - accuracy: 0.8389\n",
            "Epoch 45/120\n",
            "50/50 [==============================] - 2s 46ms/step - loss: 0.4335 - accuracy: 0.8470\n",
            "Epoch 46/120\n",
            "50/50 [==============================] - 2s 46ms/step - loss: 0.4392 - accuracy: 0.8436\n",
            "Epoch 47/120\n",
            "50/50 [==============================] - 2s 46ms/step - loss: 0.3858 - accuracy: 0.8642\n",
            "Epoch 48/120\n",
            "50/50 [==============================] - 2s 46ms/step - loss: 0.3383 - accuracy: 0.8799\n",
            "Epoch 49/120\n",
            "50/50 [==============================] - 2s 46ms/step - loss: 0.3223 - accuracy: 0.8872\n",
            "Epoch 50/120\n",
            "50/50 [==============================] - 2s 46ms/step - loss: 0.3042 - accuracy: 0.8925\n",
            "Epoch 51/120\n",
            "50/50 [==============================] - 2s 47ms/step - loss: 0.2790 - accuracy: 0.9044\n",
            "Epoch 52/120\n",
            "50/50 [==============================] - 2s 46ms/step - loss: 0.2783 - accuracy: 0.9029\n",
            "Epoch 53/120\n",
            "50/50 [==============================] - 2s 46ms/step - loss: 0.2675 - accuracy: 0.9053\n",
            "Epoch 54/120\n",
            "50/50 [==============================] - 2s 47ms/step - loss: 0.2589 - accuracy: 0.9081\n",
            "Epoch 55/120\n",
            "50/50 [==============================] - 2s 47ms/step - loss: 0.2422 - accuracy: 0.9153\n",
            "Epoch 56/120\n",
            "50/50 [==============================] - 2s 47ms/step - loss: 0.2373 - accuracy: 0.9165\n",
            "Epoch 57/120\n",
            "50/50 [==============================] - 2s 47ms/step - loss: 0.2046 - accuracy: 0.9289\n",
            "Epoch 58/120\n",
            "50/50 [==============================] - 2s 46ms/step - loss: 0.2019 - accuracy: 0.9299\n",
            "Epoch 59/120\n",
            "50/50 [==============================] - 2s 47ms/step - loss: 0.1931 - accuracy: 0.9323\n",
            "Epoch 60/120\n",
            "50/50 [==============================] - 2s 46ms/step - loss: 0.1807 - accuracy: 0.9360\n",
            "Epoch 61/120\n",
            "50/50 [==============================] - 2s 46ms/step - loss: 0.1638 - accuracy: 0.9431\n",
            "Epoch 62/120\n",
            "50/50 [==============================] - 2s 46ms/step - loss: 0.1786 - accuracy: 0.9368\n",
            "Epoch 63/120\n",
            "50/50 [==============================] - 2s 47ms/step - loss: 0.1514 - accuracy: 0.9469\n",
            "Epoch 64/120\n",
            "50/50 [==============================] - 2s 46ms/step - loss: 0.1645 - accuracy: 0.9428\n",
            "Epoch 65/120\n",
            "50/50 [==============================] - 2s 46ms/step - loss: 0.1447 - accuracy: 0.9501\n",
            "Epoch 66/120\n",
            "50/50 [==============================] - 2s 46ms/step - loss: 0.1161 - accuracy: 0.9602\n",
            "Epoch 67/120\n",
            "50/50 [==============================] - 2s 47ms/step - loss: 0.1185 - accuracy: 0.9594\n",
            "Epoch 68/120\n",
            "50/50 [==============================] - 2s 46ms/step - loss: 0.1536 - accuracy: 0.9471\n",
            "Epoch 69/120\n",
            "50/50 [==============================] - 2s 46ms/step - loss: 0.1739 - accuracy: 0.9383\n",
            "Epoch 70/120\n",
            "50/50 [==============================] - 2s 47ms/step - loss: 0.1129 - accuracy: 0.9607\n",
            "Epoch 71/120\n",
            "50/50 [==============================] - 2s 46ms/step - loss: 0.1099 - accuracy: 0.9620\n",
            "Epoch 72/120\n",
            "50/50 [==============================] - 2s 46ms/step - loss: 0.1068 - accuracy: 0.9634\n",
            "Epoch 73/120\n",
            "50/50 [==============================] - 2s 46ms/step - loss: 0.1096 - accuracy: 0.9623\n",
            "Epoch 74/120\n",
            "50/50 [==============================] - 2s 46ms/step - loss: 0.0941 - accuracy: 0.9678\n",
            "Epoch 75/120\n",
            "50/50 [==============================] - 2s 46ms/step - loss: 0.0859 - accuracy: 0.9708\n",
            "Epoch 76/120\n",
            "50/50 [==============================] - 2s 46ms/step - loss: 0.0817 - accuracy: 0.9733\n",
            "Epoch 77/120\n",
            "50/50 [==============================] - 2s 47ms/step - loss: 0.0978 - accuracy: 0.9665\n",
            "Epoch 78/120\n",
            "50/50 [==============================] - 2s 46ms/step - loss: 0.0893 - accuracy: 0.9695\n",
            "Epoch 79/120\n",
            "50/50 [==============================] - 2s 47ms/step - loss: 0.1134 - accuracy: 0.9612\n",
            "Epoch 80/120\n",
            "50/50 [==============================] - 2s 47ms/step - loss: 0.1315 - accuracy: 0.9547\n",
            "Epoch 81/120\n",
            "50/50 [==============================] - 2s 46ms/step - loss: 0.1038 - accuracy: 0.9649\n",
            "Epoch 82/120\n",
            "50/50 [==============================] - 2s 47ms/step - loss: 0.1174 - accuracy: 0.9605\n",
            "Epoch 83/120\n",
            "50/50 [==============================] - 2s 47ms/step - loss: 0.1223 - accuracy: 0.9570\n",
            "Epoch 84/120\n",
            "50/50 [==============================] - 2s 46ms/step - loss: 0.0905 - accuracy: 0.9693\n",
            "Epoch 85/120\n",
            "50/50 [==============================] - 2s 46ms/step - loss: 0.0587 - accuracy: 0.9805\n",
            "Epoch 86/120\n",
            "50/50 [==============================] - 2s 46ms/step - loss: 0.0601 - accuracy: 0.9796\n",
            "Epoch 87/120\n",
            "50/50 [==============================] - 2s 46ms/step - loss: 0.0603 - accuracy: 0.9792\n",
            "Epoch 88/120\n",
            "50/50 [==============================] - 2s 46ms/step - loss: 0.0852 - accuracy: 0.9712\n",
            "Epoch 89/120\n",
            "50/50 [==============================] - 2s 46ms/step - loss: 0.1078 - accuracy: 0.9634\n",
            "Epoch 90/120\n",
            "50/50 [==============================] - 2s 46ms/step - loss: 0.0989 - accuracy: 0.9663\n",
            "Epoch 91/120\n",
            "50/50 [==============================] - 2s 46ms/step - loss: 0.1194 - accuracy: 0.9578\n",
            "Epoch 92/120\n",
            "50/50 [==============================] - 2s 46ms/step - loss: 0.1088 - accuracy: 0.9625\n",
            "Epoch 93/120\n",
            "50/50 [==============================] - 2s 47ms/step - loss: 0.0788 - accuracy: 0.9735\n",
            "Epoch 94/120\n",
            "50/50 [==============================] - 2s 46ms/step - loss: 0.0771 - accuracy: 0.9743\n",
            "Epoch 95/120\n",
            "50/50 [==============================] - 2s 47ms/step - loss: 0.0718 - accuracy: 0.9755\n",
            "Epoch 96/120\n",
            "50/50 [==============================] - 2s 46ms/step - loss: 0.0749 - accuracy: 0.9750\n",
            "Epoch 97/120\n",
            "50/50 [==============================] - 2s 46ms/step - loss: 0.0835 - accuracy: 0.9709\n",
            "Epoch 98/120\n",
            "50/50 [==============================] - 2s 46ms/step - loss: 0.0725 - accuracy: 0.9752\n",
            "Epoch 99/120\n",
            "50/50 [==============================] - 2s 46ms/step - loss: 0.0679 - accuracy: 0.9770\n",
            "Epoch 100/120\n",
            "50/50 [==============================] - 2s 47ms/step - loss: 0.0431 - accuracy: 0.9862\n",
            "Epoch 101/120\n",
            "50/50 [==============================] - 2s 46ms/step - loss: 0.0237 - accuracy: 0.9928\n",
            "Epoch 102/120\n",
            "50/50 [==============================] - 2s 46ms/step - loss: 0.0218 - accuracy: 0.9932\n",
            "Epoch 103/120\n",
            "50/50 [==============================] - 2s 47ms/step - loss: 0.0643 - accuracy: 0.9782\n",
            "Epoch 104/120\n",
            "50/50 [==============================] - 2s 47ms/step - loss: 0.1044 - accuracy: 0.9647\n",
            "Epoch 105/120\n",
            "50/50 [==============================] - 2s 47ms/step - loss: 0.1118 - accuracy: 0.9619\n",
            "Epoch 106/120\n",
            "50/50 [==============================] - 2s 46ms/step - loss: 0.0769 - accuracy: 0.9733\n",
            "Epoch 107/120\n",
            "50/50 [==============================] - 2s 46ms/step - loss: 0.0800 - accuracy: 0.9726\n",
            "Epoch 108/120\n",
            "50/50 [==============================] - 2s 46ms/step - loss: 0.0781 - accuracy: 0.9732\n",
            "Epoch 109/120\n",
            "50/50 [==============================] - 2s 47ms/step - loss: 0.0926 - accuracy: 0.9689\n",
            "Epoch 110/120\n",
            "50/50 [==============================] - 2s 47ms/step - loss: 0.0825 - accuracy: 0.9723\n",
            "Epoch 111/120\n",
            "50/50 [==============================] - 2s 46ms/step - loss: 0.0617 - accuracy: 0.9793\n",
            "Epoch 112/120\n",
            "50/50 [==============================] - 2s 46ms/step - loss: 0.0621 - accuracy: 0.9796\n",
            "Epoch 113/120\n",
            "50/50 [==============================] - 2s 46ms/step - loss: 0.0652 - accuracy: 0.9773\n",
            "Epoch 114/120\n",
            "50/50 [==============================] - 2s 46ms/step - loss: 0.0717 - accuracy: 0.9761\n",
            "Epoch 115/120\n",
            "50/50 [==============================] - 2s 46ms/step - loss: 0.0870 - accuracy: 0.9703\n",
            "Epoch 116/120\n",
            "50/50 [==============================] - 2s 47ms/step - loss: 0.0815 - accuracy: 0.9729\n",
            "Epoch 117/120\n",
            "50/50 [==============================] - 2s 47ms/step - loss: 0.0549 - accuracy: 0.9823\n",
            "Epoch 118/120\n",
            "50/50 [==============================] - 2s 47ms/step - loss: 0.0643 - accuracy: 0.9785\n",
            "Epoch 119/120\n",
            "50/50 [==============================] - 2s 47ms/step - loss: 0.0573 - accuracy: 0.9810\n",
            "Epoch 120/120\n",
            "50/50 [==============================] - 2s 47ms/step - loss: 0.0504 - accuracy: 0.9839\n"
          ]
        },
        {
          "output_type": "execute_result",
          "data": {
            "text/plain": [
              "<keras.callbacks.History at 0x7f629e353a10>"
            ]
          },
          "metadata": {},
          "execution_count": 11
        }
      ]
    },
    {
      "cell_type": "markdown",
      "source": [
        "# after 120 epoch, the accuracy is 98 percent"
      ],
      "metadata": {
        "id": "oNvOCq-2J10-"
      },
      "id": "oNvOCq-2J10-"
    },
    {
      "cell_type": "code",
      "source": [
        "# Evaluate the model.\n",
        "model.evaluate(\n",
        "  test_images,\n",
        "  to_categorical(test_labels)\n",
        ")"
      ],
      "metadata": {
        "id": "aq1SpBNrIZca",
        "colab": {
          "base_uri": "https://localhost:8080/"
        },
        "outputId": "71e3d028-456e-45e9-d1bd-c9fab2dd0c6b"
      },
      "id": "aq1SpBNrIZca",
      "execution_count": 12,
      "outputs": [
        {
          "output_type": "stream",
          "name": "stdout",
          "text": [
            "313/313 [==============================] - 2s 5ms/step - loss: 4.5299 - accuracy: 0.5230\n"
          ]
        },
        {
          "output_type": "execute_result",
          "data": {
            "text/plain": [
              "[4.529915809631348, 0.5230000019073486]"
            ]
          },
          "metadata": {},
          "execution_count": 12
        }
      ]
    },
    {
      "cell_type": "code",
      "source": [
        "# Save the model to disk.\n",
        "model.save_weights('model_cifar10.h5')\n",
        "\n",
        "# Load the model from disk later using:\n",
        "# model.load_weights('model.h5')\n",
        "\n",
        "# Predict on the first 5 test images.\n",
        "predictions = model.predict(test_images[:10])\n",
        "\n",
        "# Print our model's predictions.\n",
        "print(np.argmax(predictions, axis=1)) # \n",
        "\n",
        "# Check our predictions against the ground truths.\n",
        "print(test_labels[:10]) # "
      ],
      "metadata": {
        "id": "12d5oU9eIgRR",
        "colab": {
          "base_uri": "https://localhost:8080/"
        },
        "outputId": "ab82943e-1fe1-4426-e947-249f650c6302"
      },
      "id": "12d5oU9eIgRR",
      "execution_count": 13,
      "outputs": [
        {
          "output_type": "stream",
          "name": "stdout",
          "text": [
            "[4 8 7 0 6 6 1 6 2 1]\n",
            "[[3]\n",
            " [8]\n",
            " [8]\n",
            " [0]\n",
            " [6]\n",
            " [6]\n",
            " [1]\n",
            " [6]\n",
            " [3]\n",
            " [1]]\n"
          ]
        }
      ]
    },
    {
      "cell_type": "code",
      "execution_count": 13,
      "id": "723aa4f5",
      "metadata": {
        "id": "723aa4f5"
      },
      "outputs": [],
      "source": [
        ""
      ]
    }
  ],
  "metadata": {
    "kernelspec": {
      "display_name": "Python 3 (ipykernel)",
      "language": "python",
      "name": "python3"
    },
    "language_info": {
      "codemirror_mode": {
        "name": "ipython",
        "version": 3
      },
      "file_extension": ".py",
      "mimetype": "text/x-python",
      "name": "python",
      "nbconvert_exporter": "python",
      "pygments_lexer": "ipython3",
      "version": "3.9.7"
    },
    "colab": {
      "name": "ann_on_cifar_10.ipynb",
      "provenance": [],
      "collapsed_sections": []
    },
    "accelerator": "GPU"
  },
  "nbformat": 4,
  "nbformat_minor": 5
}