{
 "cells": [
  {
   "cell_type": "code",
   "execution_count": 4,
   "metadata": {},
   "outputs": [
    {
     "name": "stdout",
     "output_type": "stream",
     "text": [
      "<queue.PriorityQueue object at 0x000001ED8BCCF2B0>\n",
      "['S', 'A', 'D', 'G']\n",
      "9\n"
     ]
    }
   ],
   "source": [
    "graph={    \n",
    "    'S': {'A': 2, 'B': 1},\n",
    "    'A': {'C': 2, 'D': 3},\n",
    "    'B': {'D': 4, 'E': 4},\n",
    "    'C': {'G': 4},\n",
    "    'D': {'G': 4},\n",
    "    'E': {},\n",
    "    'G': {}\n",
    "}\n",
    "\n",
    "from queue import PriorityQueue\n",
    "def Uniform_Cost_Search(startingNode, destinationNode):\n",
    "    visited = {}\n",
    "    distance = {}\n",
    "    parent = {}\n",
    "    pq = PriorityQueue()\n",
    "    for node in graph.keys():\n",
    "        visited[node] = False\n",
    "        parent[node] = None\n",
    "        distance[node] = 999\n",
    "\n",
    "    startingPoint = startingNode\n",
    "    visited[startingPoint] = True\n",
    "    distance[startingPoint] = 0\n",
    "    pq.put((0,startingPoint))\n",
    "\n",
    "    while not pq.empty():\n",
    "        u = pq.get()[1]\n",
    "        \n",
    "        if u== destinationNode:\n",
    "            break\n",
    "        visited[u] = True\n",
    "        for v in graph[u].keys():\n",
    "            if not visited[v]:\n",
    "                parent[v] = u\n",
    "                distance[v] = distance[u] + graph[u][v]\n",
    "                pq.put((distance[v],v))\n",
    "\n",
    "    print (pq)\n",
    "    g = destinationNode\n",
    "    path = []\n",
    "    while g is not None:\n",
    "          path.append(g)\n",
    "          g = parent[g]\n",
    "\n",
    "    path.reverse()\n",
    "    print(path)\n",
    "    print(distance[destinationNode])\n",
    "Uniform_Cost_Search('S', 'G')\n"
   ]
  },
  {
   "cell_type": "code",
   "execution_count": null,
   "metadata": {},
   "outputs": [],
   "source": []
  }
 ],
 "metadata": {
  "kernelspec": {
   "display_name": "Python 3",
   "language": "python",
   "name": "python3"
  },
  "language_info": {
   "codemirror_mode": {
    "name": "ipython",
    "version": 3
   },
   "file_extension": ".py",
   "mimetype": "text/x-python",
   "name": "python",
   "nbconvert_exporter": "python",
   "pygments_lexer": "ipython3",
   "version": "3.8.5"
  }
 },
 "nbformat": 4,
 "nbformat_minor": 4
}
